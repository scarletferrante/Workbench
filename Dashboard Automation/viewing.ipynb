{
 "cells": [
  {
   "cell_type": "code",
   "execution_count": 1,
   "metadata": {},
   "outputs": [],
   "source": [
    "import pandas as pd\n",
    "from openpyxl.workbook import Workbook"
   ]
  },
  {
   "cell_type": "code",
   "execution_count": 2,
   "metadata": {},
   "outputs": [],
   "source": [
    "df = pd.read_csv('pending_amendment_csv-2019-11-12.csv') \n",
    "df.columns = ['Company',\n",
    "              'Panda Link',\n",
    "              'Year',\n",
    "              'Quarter',\n",
    "              'Amendment Requested At',\n",
    "              'Tax Name',\n",
    "              'Mater Tax ID',\n",
    "              'Filed By',\n",
    "              'Original Subject Wages',\n",
    "              'Original Gross Subject Wages',\n",
    "              'Original Amount',\n",
    "              'Corrected Subject Wages',\n",
    "              'Corrected Gross Subject Wages',\n",
    "              'Corrected Amount',\n",
    "              'Payment Amount',\n",
    "              'Comments']"
   ]
  },
  {
   "cell_type": "code",
   "execution_count": 3,
   "metadata": {},
   "outputs": [
    {
     "name": "stdout",
     "output_type": "stream",
     "text": [
      "Index([u'Company', u'Panda Link', u'Year', u'Quarter',\n",
      "       u'Amendment Requested At', u'Tax Name', u'Mater Tax ID', u'Filed By',\n",
      "       u'Original Subject Wages', u'Original Gross Subject Wages',\n",
      "       u'Original Amount', u'Corrected Subject Wages',\n",
      "       u'Corrected Gross Subject Wages', u'Corrected Amount',\n",
      "       u'Payment Amount', u'Comments'],\n",
      "      dtype='object')\n"
     ]
    }
   ],
   "source": [
    "print(df.columns)"
   ]
  },
  {
   "cell_type": "code",
   "execution_count": 4,
   "metadata": {},
   "outputs": [
    {
     "name": "stdout",
     "output_type": "stream",
     "text": [
      "                                         Company  \\\n",
      "0                                       XRC Labs   \n",
      "1      INSTITUTE FOR EQUITY & INCLUSION SCIENCES   \n",
      "2                                  Casetext, Inc   \n",
      "3                                  Kubient, Inc.   \n",
      "4                                  Kubient, Inc.   \n",
      "5                                  Kubient, Inc.   \n",
      "6                                  Kubient, Inc.   \n",
      "7                                  Kubient, Inc.   \n",
      "8                                  Kubient, Inc.   \n",
      "9                                  Kubient, Inc.   \n",
      "10                                 Kubient, Inc.   \n",
      "11                                 Kubient, Inc.   \n",
      "12                                 Kubient, Inc.   \n",
      "13                                 Kubient, Inc.   \n",
      "14                                 Kubient, Inc.   \n",
      "15                             Human Design, LLC   \n",
      "16                                Lendeavor, Inc   \n",
      "17                              The Shore Church   \n",
      "18                    Z Strategic Excellence LLC   \n",
      "19                                Parkfield Tech   \n",
      "20                 Lonohana Estate Chocolate LLC   \n",
      "21                 Lonohana Estate Chocolate LLC   \n",
      "22                 Lonohana Estate Chocolate LLC   \n",
      "23                             Joshua D Hargrove   \n",
      "24                             Building Labs Inc   \n",
      "25                                bitmovin, Inc.   \n",
      "26                  Elsemary & Salem Dental Corp   \n",
      "27                         Pinnell Marketing LLC   \n",
      "28                           DMBS Holdings, Inc.   \n",
      "29          Montellese Family Chiropractic, Inc.   \n",
      "...                                          ...   \n",
      "15822                   Total Lawn Solution, LLC   \n",
      "15823                   Total Lawn Solution, LLC   \n",
      "15824                   Total Lawn Solution, LLC   \n",
      "15825                   Total Lawn Solution, LLC   \n",
      "15826                   Total Lawn Solution, LLC   \n",
      "15827                   Total Lawn Solution, LLC   \n",
      "15828                   Total Lawn Solution, LLC   \n",
      "15829                       Upper Quadrant, Inc.   \n",
      "15830                       Upper Quadrant, Inc.   \n",
      "15831                       Upper Quadrant, Inc.   \n",
      "15832                       Upper Quadrant, Inc.   \n",
      "15833                       Upper Quadrant, Inc.   \n",
      "15834                       Upper Quadrant, Inc.   \n",
      "15835                       Upper Quadrant, Inc.   \n",
      "15836                       Upper Quadrant, Inc.   \n",
      "15837                       Upper Quadrant, Inc.   \n",
      "15838                               EnerKnol Inc   \n",
      "15839                        Outsource Marketing   \n",
      "15840                                Nelumbo LLC   \n",
      "15841             Madison Core Laboratories, LLC   \n",
      "15842                             LBH Salons LLC   \n",
      "15843                              W4H Asheville   \n",
      "15844                  Netpro Communications Inc   \n",
      "15845                  Netpro Communications Inc   \n",
      "15846                  Netpro Communications Inc   \n",
      "15847                  Netpro Communications Inc   \n",
      "15848                  Netpro Communications Inc   \n",
      "15849                  Netpro Communications Inc   \n",
      "15850                  Netpro Communications Inc   \n",
      "15851                  Netpro Communications Inc   \n",
      "\n",
      "                                               Tax Name  \n",
      "0                                                   NaN  \n",
      "1                                                   NaN  \n",
      "2                                                   NaN  \n",
      "3                                    Federal Income Tax  \n",
      "4                                       Social Security  \n",
      "5                              Employer Social Security  \n",
      "6                                              Medicare  \n",
      "7                                 Employer Medicare Tax  \n",
      "8                              Federal Unemployment Tax  \n",
      "9                       New York State Unemployment Tax  \n",
      "10                           New York Reemployment Fund  \n",
      "11                  NY State Disability Insurance (SDI)  \n",
      "12                      New York State Withholdings Tax  \n",
      "13                                    New York City Tax  \n",
      "14                                  Additional Medicare  \n",
      "15                                                  NaN  \n",
      "16                                                  NaN  \n",
      "17                                                  NaN  \n",
      "18                                                  NaN  \n",
      "19                                                  NaN  \n",
      "20                                  Additional Medicare  \n",
      "21                    Hawaii Unemployment Insurance Tax  \n",
      "22              Hawaii Employment & Training Assessment  \n",
      "23                                                  NaN  \n",
      "24                                                  NaN  \n",
      "25                                                  NaN  \n",
      "26                                                  NaN  \n",
      "27                                                  NaN  \n",
      "28                                                  NaN  \n",
      "29                                                  NaN  \n",
      "...                                                 ...  \n",
      "15822                          Employer Social Security  \n",
      "15823                                          Medicare  \n",
      "15824                             Employer Medicare Tax  \n",
      "15825                          Federal Unemployment Tax  \n",
      "15826                    Georgia State Unemployment Tax  \n",
      "15827             Georgia Administrative Assessment Tax  \n",
      "15828                                 Georgia State Tax  \n",
      "15829                                Federal Income Tax  \n",
      "15830                                   Social Security  \n",
      "15831                          Employer Social Security  \n",
      "15832                                          Medicare  \n",
      "15833                             Employer Medicare Tax  \n",
      "15834                          Federal Unemployment Tax  \n",
      "15835                               Virginia Income Tax  \n",
      "15836               Virginia Unemployment Insurance Tax  \n",
      "15837                               Additional Medicare  \n",
      "15838                                               NaN  \n",
      "15839  WA Family and Medical Leave Insurance (Employee)  \n",
      "15840  WA Family and Medical Leave Insurance (Employee)  \n",
      "15841                                               NaN  \n",
      "15842  WA Family and Medical Leave Insurance (Employee)  \n",
      "15843                                               NaN  \n",
      "15844                   New York State Unemployment Tax  \n",
      "15845                        New York Reemployment Fund  \n",
      "15846               NY State Disability Insurance (SDI)  \n",
      "15847                   New York State Withholdings Tax  \n",
      "15848                               Additional Medicare  \n",
      "15849                       Ohio State Unemployment Tax  \n",
      "15850                                    Ohio State Tax  \n",
      "15851                                   Dublin City Tax  \n",
      "\n",
      "[15852 rows x 2 columns]\n"
     ]
    }
   ],
   "source": [
    "print(df[['Company','Tax Name']])\n",
    "# double brackets because were presenting the index of the dataframe aas a llist of columns"
   ]
  },
  {
   "cell_type": "code",
   "execution_count": 5,
   "metadata": {},
   "outputs": [
    {
     "name": "stdout",
     "output_type": "stream",
     "text": [
      "0                                     XRC Labs\n",
      "1    INSTITUTE FOR EQUITY & INCLUSION SCIENCES\n",
      "2                                Casetext, Inc\n",
      "3                                Kubient, Inc.\n",
      "4                                Kubient, Inc.\n",
      "5                                Kubient, Inc.\n",
      "6                                Kubient, Inc.\n",
      "7                                Kubient, Inc.\n",
      "8                                Kubient, Inc.\n",
      "9                                Kubient, Inc.\n",
      "Name: Company, dtype: object\n"
     ]
    }
   ],
   "source": [
    "print(df['Company'][0:10])"
   ]
  },
  {
   "cell_type": "code",
   "execution_count": 6,
   "metadata": {},
   "outputs": [
    {
     "name": "stdout",
     "output_type": "stream",
     "text": [
      "Company                                  INSTITUTE FOR EQUITY & INCLUSION SCIENCES\n",
      "Panda Link                       https://app.gusto.com/panda/companies/77576169...\n",
      "Year                                                                          2018\n",
      "Quarter                                                                          4\n",
      "Amendment Requested At                                   2019-03-06 14:56:08 -0800\n",
      "Tax Name                                                                       NaN\n",
      "Mater Tax ID                                                                   NaN\n",
      "Filed By                                                                       NaN\n",
      "Original Subject Wages                                                         NaN\n",
      "Original Gross Subject Wages                                                   NaN\n",
      "Original Amount                                                                NaN\n",
      "Corrected Subject Wages                                                        NaN\n",
      "Corrected Gross Subject Wages                                                  NaN\n",
      "Corrected Amount                                                               NaN\n",
      "Payment Amount                                                                 NaN\n",
      "Comments                         Q4 has been marked for amendment in order to a...\n",
      "Name: 1, dtype: object\n"
     ]
    }
   ],
   "source": [
    "print(df.iloc[1])"
   ]
  },
  {
   "cell_type": "code",
   "execution_count": 7,
   "metadata": {},
   "outputs": [
    {
     "name": "stdout",
     "output_type": "stream",
     "text": [
      "Federal Income Tax\n"
     ]
    }
   ],
   "source": [
    "print(df.iloc[3,5])\n",
    "# [row,column]"
   ]
  },
  {
   "cell_type": "code",
   "execution_count": 10,
   "metadata": {},
   "outputs": [],
   "source": [
    "wanted_values = df[['Company', 'Tax Name', 'Filed By']]\n",
    "stored = wanted_values.to_csv('modified.csv',index=None)"
   ]
  }
 ],
 "metadata": {
  "kernelspec": {
   "display_name": "Python 2",
   "language": "python",
   "name": "python2"
  },
  "language_info": {
   "codemirror_mode": {
    "name": "ipython",
    "version": 2
   },
   "file_extension": ".py",
   "mimetype": "text/x-python",
   "name": "python",
   "nbconvert_exporter": "python",
   "pygments_lexer": "ipython2",
   "version": "2.7.16"
  }
 },
 "nbformat": 4,
 "nbformat_minor": 2
}
