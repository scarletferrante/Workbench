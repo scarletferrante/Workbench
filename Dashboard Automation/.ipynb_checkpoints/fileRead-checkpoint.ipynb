{
 "cells": [
  {
   "cell_type": "code",
   "execution_count": 1,
   "metadata": {},
   "outputs": [],
   "source": [
    "import pandas as pd\n",
    "from openpyxl.workbook import Workbook"
   ]
  },
  {
   "cell_type": "code",
   "execution_count": 2,
   "metadata": {},
   "outputs": [
    {
     "name": "stdout",
     "output_type": "stream",
     "text": [
      "Index([u'Company', u'Panda Link', u'Year', u'Quarter',\n",
      "       u'Amendment Requested At', u'Tax Name', u'Master Tax ID', u'Filed By',\n",
      "       u'Original Subject Wages', u'Original Gross Subject Wages',\n",
      "       u'Original Amount', u'Corrected Subject Wages',\n",
      "       u'Corrected Gross Subject Wages', u'Corrected Amount',\n",
      "       u'Payment Amount', u'Comments'],\n",
      "      dtype='object')\n"
     ]
    }
   ],
   "source": [
    "df_csv = pd.read_csv('pending_amendment_csv-2019-11-12.csv') "
   ]
  },
  {
   "cell_type": "code",
   "execution_count": 3,
   "metadata": {},
   "outputs": [
    {
     "name": "stdout",
     "output_type": "stream",
     "text": [
      "Index([u'Company', u'Panda Link', u'Year', u'Quarter',\n",
      "       u'Amendment Requested At', u'Tax Name', u'Master Tax ID', u'Filed By',\n",
      "       u'Original Subject Wages', u'Original Gross Subject Wages',\n",
      "       u'Original Amount', u'Corrected Subject Wages',\n",
      "       u'Corrected Gross Subject Wages', u'Corrected Amount',\n",
      "       u'Payment Amount', u'Comments'],\n",
      "      dtype='object')\n"
     ]
    }
   ],
   "source": [
    "#print(df_csv)\n",
    "print(df_csv.columns)\n",
    "df_csv.to_csv('modified.csv')"
   ]
  },
  {
   "cell_type": "code",
   "execution_count": null,
   "metadata": {},
   "outputs": [],
   "source": []
  }
 ],
 "metadata": {
  "kernelspec": {
   "display_name": "Python 2",
   "language": "python",
   "name": "python2"
  },
  "language_info": {
   "codemirror_mode": {
    "name": "ipython",
    "version": 2
   },
   "file_extension": ".py",
   "mimetype": "text/x-python",
   "name": "python",
   "nbconvert_exporter": "python",
   "pygments_lexer": "ipython2",
   "version": "2.7.16"
  }
 },
 "nbformat": 4,
 "nbformat_minor": 2
}
